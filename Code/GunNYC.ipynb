{
 "cells": [
  {
   "cell_type": "code",
   "execution_count": 1,
   "metadata": {
    "collapsed": true
   },
   "outputs": [],
   "source": [
    "import pandas as pd\n",
    "import numpy as np\n",
    "import geopandas as gpd\n",
    "from shapely.geometry import Point\n",
    "import matplotlib.pyplot as plt\n",
    "import requests\n",
    "import io"
   ]
  },
  {
   "cell_type": "code",
   "execution_count": 7,
   "metadata": {
    "collapsed": true
   },
   "outputs": [],
   "source": [
    "guns = pd.read_csv(\"gun_violence_csv.csv\")\n"
   ]
  },
  {
   "cell_type": "code",
   "execution_count": null,
   "metadata": {
    "collapsed": true
   },
   "outputs": [],
   "source": [
    "[1, 2, 3]"
   ]
  },
  {
   "cell_type": "code",
   "execution_count": 87,
   "metadata": {
    "collapsed": true
   },
   "outputs": [],
   "source": [
    "guns_NY = guns[guns.state == 'New York']\n",
    "guns_NY = guns[guns.city_or_county == 'New York (Manhattan)' ]\n"
   ]
  },
  {
   "cell_type": "code",
   "execution_count": 88,
   "metadata": {
    "collapsed": false
   },
   "outputs": [
    {
     "name": "stderr",
     "output_type": "stream",
     "text": [
      "/Users/mariumsultan/anaconda2/lib/python2.7/site-packages/ipykernel/__main__.py:1: SettingWithCopyWarning: \n",
      "A value is trying to be set on a copy of a slice from a DataFrame.\n",
      "Try using .loc[row_indexer,col_indexer] = value instead\n",
      "\n",
      "See the caveats in the documentation: http://pandas.pydata.org/pandas-docs/stable/indexing.html#indexing-view-versus-copy\n",
      "  if __name__ == '__main__':\n",
      "/Users/mariumsultan/anaconda2/lib/python2.7/site-packages/ipykernel/__main__.py:3: SettingWithCopyWarning: \n",
      "A value is trying to be set on a copy of a slice from a DataFrame.\n",
      "Try using .loc[row_indexer,col_indexer] = value instead\n",
      "\n",
      "See the caveats in the documentation: http://pandas.pydata.org/pandas-docs/stable/indexing.html#indexing-view-versus-copy\n",
      "  app.launch_new_instance()\n"
     ]
    }
   ],
   "source": [
    "guns_NY['Coordinates'] = list(zip(guns_NY.longitude, guns_NY.latitude))\n",
    "\n",
    "guns_NY['Coordinates'] = guns_NY['Coordinates'].apply(Point)\n",
    "\n",
    "guns_NY = gpd.GeoDataFrame(guns_NY, geometry='Coordinates')"
   ]
  },
  {
   "cell_type": "code",
   "execution_count": 89,
   "metadata": {
    "collapsed": false
   },
   "outputs": [],
   "source": [
    "zip_codes = gpd.GeoDataFrame.from_file('us_zip/tl_2017_us_zcta510.shp')"
   ]
  },
  {
   "cell_type": "code",
   "execution_count": 90,
   "metadata": {
    "collapsed": false
   },
   "outputs": [
    {
     "data": {
      "text/html": [
       "<div>\n",
       "<style scoped>\n",
       "    .dataframe tbody tr th:only-of-type {\n",
       "        vertical-align: middle;\n",
       "    }\n",
       "\n",
       "    .dataframe tbody tr th {\n",
       "        vertical-align: top;\n",
       "    }\n",
       "\n",
       "    .dataframe thead th {\n",
       "        text-align: right;\n",
       "    }\n",
       "</style>\n",
       "<table border=\"1\" class=\"dataframe\">\n",
       "  <thead>\n",
       "    <tr style=\"text-align: right;\">\n",
       "      <th></th>\n",
       "      <th>ZCTA5CE10</th>\n",
       "      <th>GEOID10</th>\n",
       "      <th>CLASSFP10</th>\n",
       "      <th>MTFCC10</th>\n",
       "      <th>FUNCSTAT10</th>\n",
       "      <th>ALAND10</th>\n",
       "      <th>AWATER10</th>\n",
       "      <th>INTPTLAT10</th>\n",
       "      <th>INTPTLON10</th>\n",
       "      <th>geometry</th>\n",
       "    </tr>\n",
       "  </thead>\n",
       "  <tbody>\n",
       "    <tr>\n",
       "      <th>0</th>\n",
       "      <td>43451</td>\n",
       "      <td>43451</td>\n",
       "      <td>B5</td>\n",
       "      <td>G6350</td>\n",
       "      <td>S</td>\n",
       "      <td>63411475</td>\n",
       "      <td>157689</td>\n",
       "      <td>+41.3183010</td>\n",
       "      <td>-083.6174935</td>\n",
       "      <td>POLYGON ((-83.708733 41.327326, -83.708147 41....</td>\n",
       "    </tr>\n",
       "    <tr>\n",
       "      <th>1</th>\n",
       "      <td>43452</td>\n",
       "      <td>43452</td>\n",
       "      <td>B5</td>\n",
       "      <td>G6350</td>\n",
       "      <td>S</td>\n",
       "      <td>121783674</td>\n",
       "      <td>13437380</td>\n",
       "      <td>+41.5157923</td>\n",
       "      <td>-082.9809454</td>\n",
       "      <td>POLYGON ((-83.086978 41.537796, -83.0825629999...</td>\n",
       "    </tr>\n",
       "    <tr>\n",
       "      <th>2</th>\n",
       "      <td>43456</td>\n",
       "      <td>43456</td>\n",
       "      <td>B5</td>\n",
       "      <td>G6350</td>\n",
       "      <td>S</td>\n",
       "      <td>9389362</td>\n",
       "      <td>999166</td>\n",
       "      <td>+41.6468445</td>\n",
       "      <td>-082.8226641</td>\n",
       "      <td>(POLYGON ((-82.835577 41.710823, -82.83515 41....</td>\n",
       "    </tr>\n",
       "    <tr>\n",
       "      <th>3</th>\n",
       "      <td>43457</td>\n",
       "      <td>43457</td>\n",
       "      <td>B5</td>\n",
       "      <td>G6350</td>\n",
       "      <td>S</td>\n",
       "      <td>48035540</td>\n",
       "      <td>0</td>\n",
       "      <td>+41.2673266</td>\n",
       "      <td>-083.4274645</td>\n",
       "      <td>POLYGON ((-83.49650299999999 41.253708, -83.48...</td>\n",
       "    </tr>\n",
       "    <tr>\n",
       "      <th>4</th>\n",
       "      <td>43458</td>\n",
       "      <td>43458</td>\n",
       "      <td>B5</td>\n",
       "      <td>G6350</td>\n",
       "      <td>S</td>\n",
       "      <td>2573816</td>\n",
       "      <td>39915</td>\n",
       "      <td>+41.5304461</td>\n",
       "      <td>-083.2133648</td>\n",
       "      <td>POLYGON ((-83.222292 41.531025, -83.2222819999...</td>\n",
       "    </tr>\n",
       "  </tbody>\n",
       "</table>\n",
       "</div>"
      ],
      "text/plain": [
       "  ZCTA5CE10 GEOID10 CLASSFP10 MTFCC10 FUNCSTAT10    ALAND10  AWATER10  \\\n",
       "0     43451   43451        B5   G6350          S   63411475    157689   \n",
       "1     43452   43452        B5   G6350          S  121783674  13437380   \n",
       "2     43456   43456        B5   G6350          S    9389362    999166   \n",
       "3     43457   43457        B5   G6350          S   48035540         0   \n",
       "4     43458   43458        B5   G6350          S    2573816     39915   \n",
       "\n",
       "    INTPTLAT10    INTPTLON10  \\\n",
       "0  +41.3183010  -083.6174935   \n",
       "1  +41.5157923  -082.9809454   \n",
       "2  +41.6468445  -082.8226641   \n",
       "3  +41.2673266  -083.4274645   \n",
       "4  +41.5304461  -083.2133648   \n",
       "\n",
       "                                            geometry  \n",
       "0  POLYGON ((-83.708733 41.327326, -83.708147 41....  \n",
       "1  POLYGON ((-83.086978 41.537796, -83.0825629999...  \n",
       "2  (POLYGON ((-82.835577 41.710823, -82.83515 41....  \n",
       "3  POLYGON ((-83.49650299999999 41.253708, -83.48...  \n",
       "4  POLYGON ((-83.222292 41.531025, -83.2222819999...  "
      ]
     },
     "execution_count": 90,
     "metadata": {},
     "output_type": "execute_result"
    }
   ],
   "source": [
    "zip_codes.head()"
   ]
  },
  {
   "cell_type": "code",
   "execution_count": 91,
   "metadata": {
    "collapsed": false
   },
   "outputs": [
    {
     "data": {
      "text/plain": [
       "{u'init': u'epsg:4269'}"
      ]
     },
     "execution_count": 91,
     "metadata": {},
     "output_type": "execute_result"
    }
   ],
   "source": [
    "zip_codes.crs"
   ]
  },
  {
   "cell_type": "code",
   "execution_count": 92,
   "metadata": {
    "collapsed": true
   },
   "outputs": [],
   "source": [
    "guns_NY.crs = {'init' :'epsg:2263'}\n"
   ]
  },
  {
   "cell_type": "code",
   "execution_count": 93,
   "metadata": {
    "collapsed": false
   },
   "outputs": [
    {
     "data": {
      "text/html": [
       "<div>\n",
       "<style scoped>\n",
       "    .dataframe tbody tr th:only-of-type {\n",
       "        vertical-align: middle;\n",
       "    }\n",
       "\n",
       "    .dataframe tbody tr th {\n",
       "        vertical-align: top;\n",
       "    }\n",
       "\n",
       "    .dataframe thead th {\n",
       "        text-align: right;\n",
       "    }\n",
       "</style>\n",
       "<table border=\"1\" class=\"dataframe\">\n",
       "  <thead>\n",
       "    <tr style=\"text-align: right;\">\n",
       "      <th></th>\n",
       "      <th>incident_id</th>\n",
       "      <th>date</th>\n",
       "      <th>state</th>\n",
       "      <th>city_or_county</th>\n",
       "      <th>address</th>\n",
       "      <th>n_killed</th>\n",
       "      <th>n_injured</th>\n",
       "      <th>latitude</th>\n",
       "      <th>longitude</th>\n",
       "      <th>Coordinates</th>\n",
       "    </tr>\n",
       "  </thead>\n",
       "  <tbody>\n",
       "    <tr>\n",
       "      <th>47</th>\n",
       "      <td>483872</td>\n",
       "      <td>4/7/13</td>\n",
       "      <td>New York</td>\n",
       "      <td>New York (Manhattan)</td>\n",
       "      <td>900 Garden Way</td>\n",
       "      <td>1</td>\n",
       "      <td>3</td>\n",
       "      <td>40.9018</td>\n",
       "      <td>-73.8511</td>\n",
       "      <td>POINT (-73.8511 40.9018)</td>\n",
       "    </tr>\n",
       "    <tr>\n",
       "      <th>7205</th>\n",
       "      <td>109459</td>\n",
       "      <td>2/23/14</td>\n",
       "      <td>New York</td>\n",
       "      <td>New York (Manhattan)</td>\n",
       "      <td>NaN</td>\n",
       "      <td>1</td>\n",
       "      <td>0</td>\n",
       "      <td>40.7495</td>\n",
       "      <td>-73.9893</td>\n",
       "      <td>POINT (-73.9893 40.7495)</td>\n",
       "    </tr>\n",
       "    <tr>\n",
       "      <th>19487</th>\n",
       "      <td>141757</td>\n",
       "      <td>5/31/14</td>\n",
       "      <td>New York</td>\n",
       "      <td>New York (Manhattan)</td>\n",
       "      <td>West 129th Street and St. Nicholas Terrace</td>\n",
       "      <td>0</td>\n",
       "      <td>1</td>\n",
       "      <td>40.8135</td>\n",
       "      <td>-73.9513</td>\n",
       "      <td>POINT (-73.9513 40.8135)</td>\n",
       "    </tr>\n",
       "    <tr>\n",
       "      <th>29965</th>\n",
       "      <td>177516</td>\n",
       "      <td>8/4/14</td>\n",
       "      <td>New York</td>\n",
       "      <td>New York (Manhattan)</td>\n",
       "      <td>NaN</td>\n",
       "      <td>0</td>\n",
       "      <td>0</td>\n",
       "      <td>40.7495</td>\n",
       "      <td>-73.9893</td>\n",
       "      <td>POINT (-73.9893 40.7495)</td>\n",
       "    </tr>\n",
       "    <tr>\n",
       "      <th>36575</th>\n",
       "      <td>190037</td>\n",
       "      <td>9/12/14</td>\n",
       "      <td>New York</td>\n",
       "      <td>New York (Manhattan)</td>\n",
       "      <td>Amsterdam Avenue and 82nd Street</td>\n",
       "      <td>0</td>\n",
       "      <td>2</td>\n",
       "      <td>40.7851</td>\n",
       "      <td>-73.9769</td>\n",
       "      <td>POINT (-73.9769 40.7851)</td>\n",
       "    </tr>\n",
       "  </tbody>\n",
       "</table>\n",
       "</div>"
      ],
      "text/plain": [
       "       incident_id     date     state        city_or_county  \\\n",
       "47          483872   4/7/13  New York  New York (Manhattan)   \n",
       "7205        109459  2/23/14  New York  New York (Manhattan)   \n",
       "19487       141757  5/31/14  New York  New York (Manhattan)   \n",
       "29965       177516   8/4/14  New York  New York (Manhattan)   \n",
       "36575       190037  9/12/14  New York  New York (Manhattan)   \n",
       "\n",
       "                                          address  n_killed  n_injured  \\\n",
       "47                                 900 Garden Way         1          3   \n",
       "7205                                          NaN         1          0   \n",
       "19487  West 129th Street and St. Nicholas Terrace         0          1   \n",
       "29965                                         NaN         0          0   \n",
       "36575            Amsterdam Avenue and 82nd Street         0          2   \n",
       "\n",
       "       latitude  longitude               Coordinates  \n",
       "47      40.9018   -73.8511  POINT (-73.8511 40.9018)  \n",
       "7205    40.7495   -73.9893  POINT (-73.9893 40.7495)  \n",
       "19487   40.8135   -73.9513  POINT (-73.9513 40.8135)  \n",
       "29965   40.7495   -73.9893  POINT (-73.9893 40.7495)  \n",
       "36575   40.7851   -73.9769  POINT (-73.9769 40.7851)  "
      ]
     },
     "execution_count": 93,
     "metadata": {},
     "output_type": "execute_result"
    }
   ],
   "source": [
    "guns_NY.head()"
   ]
  },
  {
   "cell_type": "code",
   "execution_count": 94,
   "metadata": {
    "collapsed": false
   },
   "outputs": [
    {
     "data": {
      "text/html": [
       "<div>\n",
       "<style scoped>\n",
       "    .dataframe tbody tr th:only-of-type {\n",
       "        vertical-align: middle;\n",
       "    }\n",
       "\n",
       "    .dataframe tbody tr th {\n",
       "        vertical-align: top;\n",
       "    }\n",
       "\n",
       "    .dataframe thead th {\n",
       "        text-align: right;\n",
       "    }\n",
       "</style>\n",
       "<table border=\"1\" class=\"dataframe\">\n",
       "  <thead>\n",
       "    <tr style=\"text-align: right;\">\n",
       "      <th></th>\n",
       "      <th>ZCTA5CE10</th>\n",
       "      <th>GEOID10</th>\n",
       "      <th>CLASSFP10</th>\n",
       "      <th>MTFCC10</th>\n",
       "      <th>FUNCSTAT10</th>\n",
       "      <th>ALAND10</th>\n",
       "      <th>AWATER10</th>\n",
       "      <th>INTPTLAT10</th>\n",
       "      <th>INTPTLON10</th>\n",
       "      <th>geometry</th>\n",
       "    </tr>\n",
       "  </thead>\n",
       "  <tbody>\n",
       "    <tr>\n",
       "      <th>0</th>\n",
       "      <td>43451</td>\n",
       "      <td>43451</td>\n",
       "      <td>B5</td>\n",
       "      <td>G6350</td>\n",
       "      <td>S</td>\n",
       "      <td>63411475</td>\n",
       "      <td>157689</td>\n",
       "      <td>+41.3183010</td>\n",
       "      <td>-083.6174935</td>\n",
       "      <td>POLYGON ((-83.708733 41.327326, -83.708147 41....</td>\n",
       "    </tr>\n",
       "    <tr>\n",
       "      <th>1</th>\n",
       "      <td>43452</td>\n",
       "      <td>43452</td>\n",
       "      <td>B5</td>\n",
       "      <td>G6350</td>\n",
       "      <td>S</td>\n",
       "      <td>121783674</td>\n",
       "      <td>13437380</td>\n",
       "      <td>+41.5157923</td>\n",
       "      <td>-082.9809454</td>\n",
       "      <td>POLYGON ((-83.086978 41.537796, -83.0825629999...</td>\n",
       "    </tr>\n",
       "    <tr>\n",
       "      <th>2</th>\n",
       "      <td>43456</td>\n",
       "      <td>43456</td>\n",
       "      <td>B5</td>\n",
       "      <td>G6350</td>\n",
       "      <td>S</td>\n",
       "      <td>9389362</td>\n",
       "      <td>999166</td>\n",
       "      <td>+41.6468445</td>\n",
       "      <td>-082.8226641</td>\n",
       "      <td>(POLYGON ((-82.835577 41.710823, -82.83515 41....</td>\n",
       "    </tr>\n",
       "    <tr>\n",
       "      <th>3</th>\n",
       "      <td>43457</td>\n",
       "      <td>43457</td>\n",
       "      <td>B5</td>\n",
       "      <td>G6350</td>\n",
       "      <td>S</td>\n",
       "      <td>48035540</td>\n",
       "      <td>0</td>\n",
       "      <td>+41.2673266</td>\n",
       "      <td>-083.4274645</td>\n",
       "      <td>POLYGON ((-83.49650299999999 41.253708, -83.48...</td>\n",
       "    </tr>\n",
       "    <tr>\n",
       "      <th>4</th>\n",
       "      <td>43458</td>\n",
       "      <td>43458</td>\n",
       "      <td>B5</td>\n",
       "      <td>G6350</td>\n",
       "      <td>S</td>\n",
       "      <td>2573816</td>\n",
       "      <td>39915</td>\n",
       "      <td>+41.5304461</td>\n",
       "      <td>-083.2133648</td>\n",
       "      <td>POLYGON ((-83.222292 41.531025, -83.2222819999...</td>\n",
       "    </tr>\n",
       "  </tbody>\n",
       "</table>\n",
       "</div>"
      ],
      "text/plain": [
       "  ZCTA5CE10 GEOID10 CLASSFP10 MTFCC10 FUNCSTAT10    ALAND10  AWATER10  \\\n",
       "0     43451   43451        B5   G6350          S   63411475    157689   \n",
       "1     43452   43452        B5   G6350          S  121783674  13437380   \n",
       "2     43456   43456        B5   G6350          S    9389362    999166   \n",
       "3     43457   43457        B5   G6350          S   48035540         0   \n",
       "4     43458   43458        B5   G6350          S    2573816     39915   \n",
       "\n",
       "    INTPTLAT10    INTPTLON10  \\\n",
       "0  +41.3183010  -083.6174935   \n",
       "1  +41.5157923  -082.9809454   \n",
       "2  +41.6468445  -082.8226641   \n",
       "3  +41.2673266  -083.4274645   \n",
       "4  +41.5304461  -083.2133648   \n",
       "\n",
       "                                            geometry  \n",
       "0  POLYGON ((-83.708733 41.327326, -83.708147 41....  \n",
       "1  POLYGON ((-83.086978 41.537796, -83.0825629999...  \n",
       "2  (POLYGON ((-82.835577 41.710823, -82.83515 41....  \n",
       "3  POLYGON ((-83.49650299999999 41.253708, -83.48...  \n",
       "4  POLYGON ((-83.222292 41.531025, -83.2222819999...  "
      ]
     },
     "execution_count": 94,
     "metadata": {},
     "output_type": "execute_result"
    }
   ],
   "source": [
    "zip_codes.head()"
   ]
  },
  {
   "cell_type": "code",
   "execution_count": 95,
   "metadata": {
    "collapsed": false
   },
   "outputs": [],
   "source": [
    "guns_NYC_zip = gpd.sjoin(zip_codes, guns_NY, how=\"inner\", op='intersects')"
   ]
  },
  {
   "cell_type": "code",
   "execution_count": 96,
   "metadata": {
    "collapsed": false
   },
   "outputs": [
    {
     "data": {
      "text/html": [
       "<div>\n",
       "<style scoped>\n",
       "    .dataframe tbody tr th:only-of-type {\n",
       "        vertical-align: middle;\n",
       "    }\n",
       "\n",
       "    .dataframe tbody tr th {\n",
       "        vertical-align: top;\n",
       "    }\n",
       "\n",
       "    .dataframe thead th {\n",
       "        text-align: right;\n",
       "    }\n",
       "</style>\n",
       "<table border=\"1\" class=\"dataframe\">\n",
       "  <thead>\n",
       "    <tr style=\"text-align: right;\">\n",
       "      <th></th>\n",
       "      <th>ZCTA5CE10</th>\n",
       "      <th>GEOID10</th>\n",
       "      <th>CLASSFP10</th>\n",
       "      <th>MTFCC10</th>\n",
       "      <th>FUNCSTAT10</th>\n",
       "      <th>ALAND10</th>\n",
       "      <th>AWATER10</th>\n",
       "      <th>INTPTLAT10</th>\n",
       "      <th>INTPTLON10</th>\n",
       "      <th>geometry</th>\n",
       "      <th>index_right</th>\n",
       "      <th>incident_id</th>\n",
       "      <th>date</th>\n",
       "      <th>state</th>\n",
       "      <th>city_or_county</th>\n",
       "      <th>address</th>\n",
       "      <th>n_killed</th>\n",
       "      <th>n_injured</th>\n",
       "      <th>latitude</th>\n",
       "      <th>longitude</th>\n",
       "    </tr>\n",
       "  </thead>\n",
       "  <tbody>\n",
       "    <tr>\n",
       "      <th>10092</th>\n",
       "      <td>10065</td>\n",
       "      <td>10065</td>\n",
       "      <td>B5</td>\n",
       "      <td>G6350</td>\n",
       "      <td>S</td>\n",
       "      <td>984659</td>\n",
       "      <td>0</td>\n",
       "      <td>+40.7646284</td>\n",
       "      <td>-073.9631438</td>\n",
       "      <td>POLYGON ((-73.972099 40.765518, -73.971648 40....</td>\n",
       "      <td>88296</td>\n",
       "      <td>409348</td>\n",
       "      <td>9/5/15</td>\n",
       "      <td>New York</td>\n",
       "      <td>New York (Manhattan)</td>\n",
       "      <td>First Avenue</td>\n",
       "      <td>0</td>\n",
       "      <td>1</td>\n",
       "      <td>40.7634</td>\n",
       "      <td>-73.9592</td>\n",
       "    </tr>\n",
       "    <tr>\n",
       "      <th>10092</th>\n",
       "      <td>10065</td>\n",
       "      <td>10065</td>\n",
       "      <td>B5</td>\n",
       "      <td>G6350</td>\n",
       "      <td>S</td>\n",
       "      <td>984659</td>\n",
       "      <td>0</td>\n",
       "      <td>+40.7646284</td>\n",
       "      <td>-073.9631438</td>\n",
       "      <td>POLYGON ((-73.972099 40.765518, -73.971648 40....</td>\n",
       "      <td>118734</td>\n",
       "      <td>531342</td>\n",
       "      <td>3/29/16</td>\n",
       "      <td>New York</td>\n",
       "      <td>New York (Manhattan)</td>\n",
       "      <td>2nd Avenue</td>\n",
       "      <td>0</td>\n",
       "      <td>1</td>\n",
       "      <td>40.7644</td>\n",
       "      <td>-73.9616</td>\n",
       "    </tr>\n",
       "    <tr>\n",
       "      <th>10092</th>\n",
       "      <td>10065</td>\n",
       "      <td>10065</td>\n",
       "      <td>B5</td>\n",
       "      <td>G6350</td>\n",
       "      <td>S</td>\n",
       "      <td>984659</td>\n",
       "      <td>0</td>\n",
       "      <td>+40.7646284</td>\n",
       "      <td>-073.9631438</td>\n",
       "      <td>POLYGON ((-73.972099 40.765518, -73.971648 40....</td>\n",
       "      <td>119185</td>\n",
       "      <td>533466</td>\n",
       "      <td>4/1/16</td>\n",
       "      <td>New York</td>\n",
       "      <td>New York (Manhattan)</td>\n",
       "      <td>Second Avenue</td>\n",
       "      <td>0</td>\n",
       "      <td>1</td>\n",
       "      <td>40.7644</td>\n",
       "      <td>-73.9616</td>\n",
       "    </tr>\n",
       "    <tr>\n",
       "      <th>10092</th>\n",
       "      <td>10065</td>\n",
       "      <td>10065</td>\n",
       "      <td>B5</td>\n",
       "      <td>G6350</td>\n",
       "      <td>S</td>\n",
       "      <td>984659</td>\n",
       "      <td>0</td>\n",
       "      <td>+40.7646284</td>\n",
       "      <td>-073.9631438</td>\n",
       "      <td>POLYGON ((-73.972099 40.765518, -73.971648 40....</td>\n",
       "      <td>140676</td>\n",
       "      <td>628630</td>\n",
       "      <td>8/13/16</td>\n",
       "      <td>New York</td>\n",
       "      <td>New York (Manhattan)</td>\n",
       "      <td>2nd Avenue</td>\n",
       "      <td>0</td>\n",
       "      <td>1</td>\n",
       "      <td>40.7644</td>\n",
       "      <td>-73.9616</td>\n",
       "    </tr>\n",
       "    <tr>\n",
       "      <th>10092</th>\n",
       "      <td>10065</td>\n",
       "      <td>10065</td>\n",
       "      <td>B5</td>\n",
       "      <td>G6350</td>\n",
       "      <td>S</td>\n",
       "      <td>984659</td>\n",
       "      <td>0</td>\n",
       "      <td>+40.7646284</td>\n",
       "      <td>-073.9631438</td>\n",
       "      <td>POLYGON ((-73.972099 40.765518, -73.971648 40....</td>\n",
       "      <td>102985</td>\n",
       "      <td>465284</td>\n",
       "      <td>12/13/15</td>\n",
       "      <td>New York</td>\n",
       "      <td>New York (Manhattan)</td>\n",
       "      <td>2nd Avenue</td>\n",
       "      <td>0</td>\n",
       "      <td>1</td>\n",
       "      <td>40.7646</td>\n",
       "      <td>-73.9614</td>\n",
       "    </tr>\n",
       "  </tbody>\n",
       "</table>\n",
       "</div>"
      ],
      "text/plain": [
       "      ZCTA5CE10 GEOID10 CLASSFP10 MTFCC10 FUNCSTAT10  ALAND10  AWATER10  \\\n",
       "10092     10065   10065        B5   G6350          S   984659         0   \n",
       "10092     10065   10065        B5   G6350          S   984659         0   \n",
       "10092     10065   10065        B5   G6350          S   984659         0   \n",
       "10092     10065   10065        B5   G6350          S   984659         0   \n",
       "10092     10065   10065        B5   G6350          S   984659         0   \n",
       "\n",
       "        INTPTLAT10    INTPTLON10  \\\n",
       "10092  +40.7646284  -073.9631438   \n",
       "10092  +40.7646284  -073.9631438   \n",
       "10092  +40.7646284  -073.9631438   \n",
       "10092  +40.7646284  -073.9631438   \n",
       "10092  +40.7646284  -073.9631438   \n",
       "\n",
       "                                                geometry  index_right  \\\n",
       "10092  POLYGON ((-73.972099 40.765518, -73.971648 40....        88296   \n",
       "10092  POLYGON ((-73.972099 40.765518, -73.971648 40....       118734   \n",
       "10092  POLYGON ((-73.972099 40.765518, -73.971648 40....       119185   \n",
       "10092  POLYGON ((-73.972099 40.765518, -73.971648 40....       140676   \n",
       "10092  POLYGON ((-73.972099 40.765518, -73.971648 40....       102985   \n",
       "\n",
       "       incident_id      date     state        city_or_county        address  \\\n",
       "10092       409348    9/5/15  New York  New York (Manhattan)   First Avenue   \n",
       "10092       531342   3/29/16  New York  New York (Manhattan)     2nd Avenue   \n",
       "10092       533466    4/1/16  New York  New York (Manhattan)  Second Avenue   \n",
       "10092       628630   8/13/16  New York  New York (Manhattan)     2nd Avenue   \n",
       "10092       465284  12/13/15  New York  New York (Manhattan)     2nd Avenue   \n",
       "\n",
       "       n_killed  n_injured  latitude  longitude  \n",
       "10092         0          1   40.7634   -73.9592  \n",
       "10092         0          1   40.7644   -73.9616  \n",
       "10092         0          1   40.7644   -73.9616  \n",
       "10092         0          1   40.7644   -73.9616  \n",
       "10092         0          1   40.7646   -73.9614  "
      ]
     },
     "execution_count": 96,
     "metadata": {},
     "output_type": "execute_result"
    }
   ],
   "source": [
    "guns_NYC_zip.head()"
   ]
  },
  {
   "cell_type": "code",
   "execution_count": 97,
   "metadata": {
    "collapsed": false
   },
   "outputs": [],
   "source": [
    "guns_NYC_zip = guns_NYC_zip[['geometry', 'ZCTA5CE10', 'n_killed']]"
   ]
  },
  {
   "cell_type": "code",
   "execution_count": 98,
   "metadata": {
    "collapsed": false
   },
   "outputs": [
    {
     "data": {
      "text/html": [
       "<div>\n",
       "<style scoped>\n",
       "    .dataframe tbody tr th:only-of-type {\n",
       "        vertical-align: middle;\n",
       "    }\n",
       "\n",
       "    .dataframe tbody tr th {\n",
       "        vertical-align: top;\n",
       "    }\n",
       "\n",
       "    .dataframe thead th {\n",
       "        text-align: right;\n",
       "    }\n",
       "</style>\n",
       "<table border=\"1\" class=\"dataframe\">\n",
       "  <thead>\n",
       "    <tr style=\"text-align: right;\">\n",
       "      <th></th>\n",
       "      <th>geometry</th>\n",
       "      <th>ZCTA5CE10</th>\n",
       "      <th>n_killed</th>\n",
       "    </tr>\n",
       "  </thead>\n",
       "  <tbody>\n",
       "    <tr>\n",
       "      <th>10092</th>\n",
       "      <td>POLYGON ((-73.972099 40.765518, -73.971648 40....</td>\n",
       "      <td>10065</td>\n",
       "      <td>0</td>\n",
       "    </tr>\n",
       "    <tr>\n",
       "      <th>10092</th>\n",
       "      <td>POLYGON ((-73.972099 40.765518, -73.971648 40....</td>\n",
       "      <td>10065</td>\n",
       "      <td>0</td>\n",
       "    </tr>\n",
       "    <tr>\n",
       "      <th>10092</th>\n",
       "      <td>POLYGON ((-73.972099 40.765518, -73.971648 40....</td>\n",
       "      <td>10065</td>\n",
       "      <td>0</td>\n",
       "    </tr>\n",
       "    <tr>\n",
       "      <th>10092</th>\n",
       "      <td>POLYGON ((-73.972099 40.765518, -73.971648 40....</td>\n",
       "      <td>10065</td>\n",
       "      <td>0</td>\n",
       "    </tr>\n",
       "    <tr>\n",
       "      <th>10092</th>\n",
       "      <td>POLYGON ((-73.972099 40.765518, -73.971648 40....</td>\n",
       "      <td>10065</td>\n",
       "      <td>0</td>\n",
       "    </tr>\n",
       "  </tbody>\n",
       "</table>\n",
       "</div>"
      ],
      "text/plain": [
       "                                                geometry ZCTA5CE10  n_killed\n",
       "10092  POLYGON ((-73.972099 40.765518, -73.971648 40....     10065         0\n",
       "10092  POLYGON ((-73.972099 40.765518, -73.971648 40....     10065         0\n",
       "10092  POLYGON ((-73.972099 40.765518, -73.971648 40....     10065         0\n",
       "10092  POLYGON ((-73.972099 40.765518, -73.971648 40....     10065         0\n",
       "10092  POLYGON ((-73.972099 40.765518, -73.971648 40....     10065         0"
      ]
     },
     "execution_count": 98,
     "metadata": {},
     "output_type": "execute_result"
    }
   ],
   "source": [
    "guns_NYC_zip.head()"
   ]
  },
  {
   "cell_type": "code",
   "execution_count": 99,
   "metadata": {
    "collapsed": false
   },
   "outputs": [],
   "source": [
    "n = guns_NYC_zip.groupby(['ZCTA5CE10'])['n_killed'].sum().reset_index()\n"
   ]
  },
  {
   "cell_type": "code",
   "execution_count": 100,
   "metadata": {
    "collapsed": false
   },
   "outputs": [
    {
     "data": {
      "text/html": [
       "<div>\n",
       "<style scoped>\n",
       "    .dataframe tbody tr th:only-of-type {\n",
       "        vertical-align: middle;\n",
       "    }\n",
       "\n",
       "    .dataframe tbody tr th {\n",
       "        vertical-align: top;\n",
       "    }\n",
       "\n",
       "    .dataframe thead th {\n",
       "        text-align: right;\n",
       "    }\n",
       "</style>\n",
       "<table border=\"1\" class=\"dataframe\">\n",
       "  <thead>\n",
       "    <tr style=\"text-align: right;\">\n",
       "      <th></th>\n",
       "      <th>ZCTA5CE10</th>\n",
       "      <th>n_killed</th>\n",
       "    </tr>\n",
       "  </thead>\n",
       "  <tbody>\n",
       "    <tr>\n",
       "      <th>0</th>\n",
       "      <td>10001</td>\n",
       "      <td>2</td>\n",
       "    </tr>\n",
       "    <tr>\n",
       "      <th>1</th>\n",
       "      <td>10002</td>\n",
       "      <td>0</td>\n",
       "    </tr>\n",
       "    <tr>\n",
       "      <th>2</th>\n",
       "      <td>10003</td>\n",
       "      <td>1</td>\n",
       "    </tr>\n",
       "    <tr>\n",
       "      <th>3</th>\n",
       "      <td>10004</td>\n",
       "      <td>0</td>\n",
       "    </tr>\n",
       "    <tr>\n",
       "      <th>4</th>\n",
       "      <td>10005</td>\n",
       "      <td>0</td>\n",
       "    </tr>\n",
       "  </tbody>\n",
       "</table>\n",
       "</div>"
      ],
      "text/plain": [
       "  ZCTA5CE10  n_killed\n",
       "0     10001         2\n",
       "1     10002         0\n",
       "2     10003         1\n",
       "3     10004         0\n",
       "4     10005         0"
      ]
     },
     "execution_count": 100,
     "metadata": {},
     "output_type": "execute_result"
    }
   ],
   "source": [
    "n.head()"
   ]
  },
  {
   "cell_type": "code",
   "execution_count": 101,
   "metadata": {
    "collapsed": false,
    "scrolled": true
   },
   "outputs": [],
   "source": [
    "n.rename(columns={'n_killed': 'n_killed_total'}, inplace=True)"
   ]
  },
  {
   "cell_type": "code",
   "execution_count": 102,
   "metadata": {
    "collapsed": false
   },
   "outputs": [],
   "source": [
    "guns_NYC_zip.drop(['n_killed'], axis =1, inplace =True)"
   ]
  },
  {
   "cell_type": "code",
   "execution_count": 103,
   "metadata": {
    "collapsed": false
   },
   "outputs": [],
   "source": [
    "guns_NYC_zip = guns_NYC_zip.merge(n, on = 'ZCTA5CE10')"
   ]
  },
  {
   "cell_type": "code",
   "execution_count": 105,
   "metadata": {
    "collapsed": false
   },
   "outputs": [
    {
     "data": {
      "text/html": [
       "<div>\n",
       "<style scoped>\n",
       "    .dataframe tbody tr th:only-of-type {\n",
       "        vertical-align: middle;\n",
       "    }\n",
       "\n",
       "    .dataframe tbody tr th {\n",
       "        vertical-align: top;\n",
       "    }\n",
       "\n",
       "    .dataframe thead th {\n",
       "        text-align: right;\n",
       "    }\n",
       "</style>\n",
       "<table border=\"1\" class=\"dataframe\">\n",
       "  <thead>\n",
       "    <tr style=\"text-align: right;\">\n",
       "      <th></th>\n",
       "      <th>geometry</th>\n",
       "      <th>ZCTA5CE10</th>\n",
       "      <th>n_killed_total</th>\n",
       "    </tr>\n",
       "  </thead>\n",
       "  <tbody>\n",
       "    <tr>\n",
       "      <th>0</th>\n",
       "      <td>POLYGON ((-73.972099 40.765518, -73.971648 40....</td>\n",
       "      <td>10065</td>\n",
       "      <td>0</td>\n",
       "    </tr>\n",
       "    <tr>\n",
       "      <th>1</th>\n",
       "      <td>POLYGON ((-73.972099 40.765518, -73.971648 40....</td>\n",
       "      <td>10065</td>\n",
       "      <td>0</td>\n",
       "    </tr>\n",
       "    <tr>\n",
       "      <th>2</th>\n",
       "      <td>POLYGON ((-73.972099 40.765518, -73.971648 40....</td>\n",
       "      <td>10065</td>\n",
       "      <td>0</td>\n",
       "    </tr>\n",
       "    <tr>\n",
       "      <th>3</th>\n",
       "      <td>POLYGON ((-73.972099 40.765518, -73.971648 40....</td>\n",
       "      <td>10065</td>\n",
       "      <td>0</td>\n",
       "    </tr>\n",
       "    <tr>\n",
       "      <th>4</th>\n",
       "      <td>POLYGON ((-73.972099 40.765518, -73.971648 40....</td>\n",
       "      <td>10065</td>\n",
       "      <td>0</td>\n",
       "    </tr>\n",
       "  </tbody>\n",
       "</table>\n",
       "</div>"
      ],
      "text/plain": [
       "                                            geometry ZCTA5CE10  n_killed_total\n",
       "0  POLYGON ((-73.972099 40.765518, -73.971648 40....     10065               0\n",
       "1  POLYGON ((-73.972099 40.765518, -73.971648 40....     10065               0\n",
       "2  POLYGON ((-73.972099 40.765518, -73.971648 40....     10065               0\n",
       "3  POLYGON ((-73.972099 40.765518, -73.971648 40....     10065               0\n",
       "4  POLYGON ((-73.972099 40.765518, -73.971648 40....     10065               0"
      ]
     },
     "execution_count": 105,
     "metadata": {},
     "output_type": "execute_result"
    }
   ],
   "source": [
    "guns_NYC_zip.head()"
   ]
  },
  {
   "cell_type": "code",
   "execution_count": 108,
   "metadata": {
    "collapsed": false,
    "scrolled": true
   },
   "outputs": [],
   "source": [
    "guns_NYC_zip.drop_duplicates(subset = 'ZCTA5CE10', keep='first', inplace=True)"
   ]
  },
  {
   "cell_type": "code",
   "execution_count": 109,
   "metadata": {
    "collapsed": false
   },
   "outputs": [
    {
     "data": {
      "text/html": [
       "<div>\n",
       "<style scoped>\n",
       "    .dataframe tbody tr th:only-of-type {\n",
       "        vertical-align: middle;\n",
       "    }\n",
       "\n",
       "    .dataframe tbody tr th {\n",
       "        vertical-align: top;\n",
       "    }\n",
       "\n",
       "    .dataframe thead th {\n",
       "        text-align: right;\n",
       "    }\n",
       "</style>\n",
       "<table border=\"1\" class=\"dataframe\">\n",
       "  <thead>\n",
       "    <tr style=\"text-align: right;\">\n",
       "      <th></th>\n",
       "      <th>geometry</th>\n",
       "      <th>ZCTA5CE10</th>\n",
       "      <th>n_killed_total</th>\n",
       "    </tr>\n",
       "  </thead>\n",
       "  <tbody>\n",
       "    <tr>\n",
       "      <th>0</th>\n",
       "      <td>POLYGON ((-73.972099 40.765518, -73.971648 40....</td>\n",
       "      <td>10065</td>\n",
       "      <td>0</td>\n",
       "    </tr>\n",
       "    <tr>\n",
       "      <th>7</th>\n",
       "      <td>POLYGON ((-73.995969 40.774012, -73.9939739999...</td>\n",
       "      <td>10069</td>\n",
       "      <td>0</td>\n",
       "    </tr>\n",
       "    <tr>\n",
       "      <th>8</th>\n",
       "      <td>POLYGON ((-73.964687 40.77567699999999, -73.96...</td>\n",
       "      <td>10075</td>\n",
       "      <td>1</td>\n",
       "    </tr>\n",
       "    <tr>\n",
       "      <th>12</th>\n",
       "      <td>(POLYGON ((-73.939508 40.779224, -73.939572 40...</td>\n",
       "      <td>10128</td>\n",
       "      <td>0</td>\n",
       "    </tr>\n",
       "    <tr>\n",
       "      <th>19</th>\n",
       "      <td>POLYGON ((-74.01814399999999 40.714291, -74.01...</td>\n",
       "      <td>10282</td>\n",
       "      <td>0</td>\n",
       "    </tr>\n",
       "  </tbody>\n",
       "</table>\n",
       "</div>"
      ],
      "text/plain": [
       "                                             geometry ZCTA5CE10  \\\n",
       "0   POLYGON ((-73.972099 40.765518, -73.971648 40....     10065   \n",
       "7   POLYGON ((-73.995969 40.774012, -73.9939739999...     10069   \n",
       "8   POLYGON ((-73.964687 40.77567699999999, -73.96...     10075   \n",
       "12  (POLYGON ((-73.939508 40.779224, -73.939572 40...     10128   \n",
       "19  POLYGON ((-74.01814399999999 40.714291, -74.01...     10282   \n",
       "\n",
       "    n_killed_total  \n",
       "0                0  \n",
       "7                0  \n",
       "8                1  \n",
       "12               0  \n",
       "19               0  "
      ]
     },
     "execution_count": 109,
     "metadata": {},
     "output_type": "execute_result"
    }
   ],
   "source": [
    "guns_NYC_zip.head()"
   ]
  },
  {
   "cell_type": "code",
   "execution_count": 110,
   "metadata": {
    "collapsed": false
   },
   "outputs": [],
   "source": [
    "guns_NYC_zip.to_file('guns_NY.shp')"
   ]
  },
  {
   "cell_type": "code",
   "execution_count": null,
   "metadata": {
    "collapsed": true
   },
   "outputs": [],
   "source": []
  },
  {
   "cell_type": "code",
   "execution_count": null,
   "metadata": {
    "collapsed": true
   },
   "outputs": [],
   "source": [
    ".drop_duplicates"
   ]
  }
 ],
 "metadata": {
  "kernelspec": {
   "display_name": "Python 2",
   "language": "python",
   "name": "python2"
  },
  "language_info": {
   "codemirror_mode": {
    "name": "ipython",
    "version": 2
   },
   "file_extension": ".py",
   "mimetype": "text/x-python",
   "name": "python",
   "nbconvert_exporter": "python",
   "pygments_lexer": "ipython2",
   "version": "2.7.15"
  }
 },
 "nbformat": 4,
 "nbformat_minor": 0
}
